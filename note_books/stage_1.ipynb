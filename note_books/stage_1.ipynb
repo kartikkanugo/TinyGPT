{
 "cells": [
  {
   "cell_type": "markdown",
   "id": "4ada705f",
   "metadata": {},
   "source": [
    "# Stage 1\n",
    "\n",
    "## PART A - TinyGPT Environment Setup\n",
    "\n",
    "This notebook initializes the TinyGPT environment — importing core libraries,  \n",
    "checking GPU availability, and printing library versions for reproducibility.\n",
    "\n",
    "---\n"
   ]
  },
  {
   "cell_type": "code",
   "execution_count": 1,
   "id": "9af4109c",
   "metadata": {},
   "outputs": [],
   "source": [
    "\n",
    "from tiny_gpt import env_display_tinygpt_modules, io_load_text_file"
   ]
  },
  {
   "cell_type": "code",
   "execution_count": 2,
   "id": "72bc642a",
   "metadata": {},
   "outputs": [
    {
     "name": "stdout",
     "output_type": "stream",
     "text": [
      "Running env_display_tinygpt_modules\n",
      "🔧 Environment Summary\n",
      "--------------------------------------------------\n",
      "Python version : 3.13.7\n",
      "Platform       : Windows 11\n",
      "\n",
      "Torch version  : 2.9.0+cu130\n",
      "NumPy version  : 2.3.4\n",
      "Tiktoken ver.  : 0.12.0\n",
      "Pandas version : 2.3.3\n",
      "--------------------------------------------------\n",
      "⚙️  CUDA & GPU Information\n",
      "--------------------------------------------------\n",
      "✅ CUDA available: 13.0\n",
      "🧠 GPU name      : NVIDIA GeForce RTX 4070 Laptop GPU\n",
      "💽 Total memory  : 8.59 GB\n",
      "--------------------------------------------------\n",
      "🔤 Tokenizer Test (tiktoken)\n",
      "--------------------------------------------------\n",
      "Input text : Once upon a time in TinyGPT...\n",
      "Tokens     : [7454, 2402, 257, 640, 287, 20443, 38, 11571, 986]\n",
      "Decoded    : Once upon a time in TinyGPT...\n",
      "--------------------------------------------------\n",
      "✅ TinyGPT environment initialized successfully!\n",
      "--------------------------------------------------\n"
     ]
    }
   ],
   "source": [
    "\n",
    "\n",
    "env_display_tinygpt_modules()"
   ]
  },
  {
   "cell_type": "markdown",
   "id": "f91a19e6",
   "metadata": {},
   "source": [
    "## Part B – Load TinyGPT Data\n",
    "\n",
    "- In this section, we load a large text dataset that will serve as the source for our tokens.\n",
    "- The verdict.txt is recommended by the reference book for initial experiments.\n",
    "- Later, we can extend or replace this dataset with any other dataset from Hugging Face, depending on our needs.\n",
    "\n",
    "---\n"
   ]
  },
  {
   "cell_type": "code",
   "execution_count": 3,
   "id": "cce794f4",
   "metadata": {},
   "outputs": [
    {
     "name": "stdout",
     "output_type": "stream",
     "text": [
      "Running io_load_text_file\n",
      "Loaded '../The_Verdict.txt' successfully!\n",
      "Total number of characters: 20479\n",
      "Preview (first 100 chars):\n",
      "I HAD always thought Jack Gisburn rather a cheap genius--though a good fellow enough--so it was no g\n"
     ]
    }
   ],
   "source": [
    "s1_raw_text = io_load_text_file()"
   ]
  }
 ],
 "metadata": {
  "kernelspec": {
   "display_name": "tinygpt",
   "language": "python",
   "name": "python3"
  },
  "language_info": {
   "codemirror_mode": {
    "name": "ipython",
    "version": 3
   },
   "file_extension": ".py",
   "mimetype": "text/x-python",
   "name": "python",
   "nbconvert_exporter": "python",
   "pygments_lexer": "ipython3",
   "version": "3.13.7"
  }
 },
 "nbformat": 4,
 "nbformat_minor": 5
}
