{
 "cells": [
  {
   "cell_type": "markdown",
   "id": "258b05ea",
   "metadata": {},
   "source": [
    "# Stage 2 - Tokenization and Data Piplines\n",
    "\n"
   ]
  }
 ],
 "metadata": {
  "kernelspec": {
   "display_name": "venv",
   "language": "python",
   "name": "python3"
  },
  "language_info": {
   "name": "python",
   "version": "3.13.7"
  }
 },
 "nbformat": 4,
 "nbformat_minor": 5
}
