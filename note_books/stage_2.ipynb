{
 "cells": [
  {
   "cell_type": "markdown",
   "id": "258b05ea",
   "metadata": {},
   "source": [
    "# Stage 2 - Tokenization and Data Piplines\n"
   ]
  },
  {
   "cell_type": "code",
   "execution_count": 2,
   "id": "379d5921",
   "metadata": {},
   "outputs": [
    {
     "name": "stdout",
     "output_type": "stream",
     "text": [
      "Running Stage 1\n",
      "==================================================\n",
      "Running s1_initialize_tinygpt_env\n",
      "🔧 Environment Summary\n",
      "--------------------------------------------------\n",
      "Python version : 3.13.7\n",
      "Platform       : Windows 11\n",
      "\n",
      "Torch version  : 2.9.0+cu130\n",
      "NumPy version  : 2.3.3\n",
      "Tiktoken ver.  : 0.12.0\n",
      "Pandas version : 2.3.3\n",
      "--------------------------------------------------\n",
      "⚙️  CUDA & GPU Information\n",
      "--------------------------------------------------\n",
      "✅ CUDA available: 13.0\n",
      "🧠 GPU name      : NVIDIA GeForce RTX 4070 Laptop GPU\n",
      "💽 Total memory  : 8.59 GB\n",
      "--------------------------------------------------\n",
      "🔤 Tokenizer Test (tiktoken)\n",
      "--------------------------------------------------\n",
      "Input text : Once upon a time in TinyGPT...\n",
      "Tokens     : [7454, 2402, 257, 640, 287, 20443, 38, 11571, 986]\n",
      "Decoded    : Once upon a time in TinyGPT...\n",
      "--------------------------------------------------\n",
      "✅ TinyGPT environment initialized successfully!\n",
      "--------------------------------------------------\n",
      "Running s1_load_text_file\n",
      "Loaded '../The_Verdict.txt' successfully!\n",
      "Total number of characters: 20479\n",
      "Preview (first 100 chars):\n",
      "I HAD always thought Jack Gisburn rather a cheap genius--though a good fellow enough--so it was no g\n",
      "==================================================\n",
      "Stage 1 Successfully Loaded\n"
     ]
    }
   ],
   "source": [
    "# Import previous stages\n",
    "print(\"Running Stage 1\")\n",
    "print(50* \"=\")\n",
    "%run -i stage_1.ipynb\n",
    "print(50* \"=\")\n",
    "print(\"Stage 1 Successfully Loaded\")"
   ]
  },
  {
   "cell_type": "markdown",
   "id": "9f84c63f",
   "metadata": {},
   "source": [
    "## Part A – Tokenization\n",
    "\n",
    "- In this section, we perform tokenization using **Byte Pair Encoding (BPE)** provided by the `tiktoken` library.\n",
    "- We use the **GPT-2 tokenizer** as our base model for encoding the text.\n"
   ]
  },
  {
   "cell_type": "code",
   "execution_count": null,
   "id": "4b51e819",
   "metadata": {},
   "outputs": [],
   "source": [
    "tokenizer = tiktoken.get_encoding(\"gpt2\") \n",
    "s2_encode_text = tokenizer.encode(s1_raw_text)  \n"
   ]
  },
  {
   "cell_type": "markdown",
   "id": "7586be6e",
   "metadata": {},
   "source": [
    "## Part B - Data Pipelines"
   ]
  }
 ],
 "metadata": {
  "kernelspec": {
   "display_name": "venv",
   "language": "python",
   "name": "python3"
  },
  "language_info": {
   "codemirror_mode": {
    "name": "ipython",
    "version": 3
   },
   "file_extension": ".py",
   "mimetype": "text/x-python",
   "name": "python",
   "nbconvert_exporter": "python",
   "pygments_lexer": "ipython3",
   "version": "3.13.7"
  }
 },
 "nbformat": 4,
 "nbformat_minor": 5
}
